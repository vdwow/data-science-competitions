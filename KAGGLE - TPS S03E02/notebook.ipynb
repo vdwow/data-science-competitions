{
 "cells": [
  {
   "cell_type": "code",
   "execution_count": 22,
   "metadata": {},
   "outputs": [],
   "source": [
    "import pandas as pd\n",
    "import numpy as np\n",
    "\n",
    "import gc\n",
    "\n",
    "from imblearn.over_sampling import SMOTE\n",
    "\n",
    "import catboost as cb\n",
    "from sklearn import model_selection, metrics, linear_model, ensemble, naive_bayes, neighbors, svm, tree\n",
    "from xgboost import XGBClassifier"
   ]
  },
  {
   "cell_type": "code",
   "execution_count": 20,
   "metadata": {},
   "outputs": [],
   "source": [
    "bold = ['\\033[1m', '\\033[0m']"
   ]
  },
  {
   "cell_type": "code",
   "execution_count": 2,
   "metadata": {},
   "outputs": [],
   "source": [
    "train = pd.read_csv(r'./data/train.csv')\n",
    "test = pd.read_csv(r'./data/test.csv')\n",
    "ss = pd.read_csv(r'./data/sample_submission.csv')"
   ]
  },
  {
   "cell_type": "code",
   "execution_count": 3,
   "metadata": {},
   "outputs": [
    {
     "name": "stdout",
     "output_type": "stream",
     "text": [
      "(15304, 12) (10204, 11)\n"
     ]
    }
   ],
   "source": [
    "print(train.shape, test.shape)"
   ]
  },
  {
   "cell_type": "code",
   "execution_count": 7,
   "metadata": {},
   "outputs": [
    {
     "data": {
      "text/plain": [
       "id                   0\n",
       "gender               0\n",
       "age                  0\n",
       "hypertension         0\n",
       "heart_disease        0\n",
       "ever_married         0\n",
       "work_type            0\n",
       "Residence_type       0\n",
       "avg_glucose_level    0\n",
       "bmi                  0\n",
       "smoking_status       0\n",
       "stroke               0\n",
       "dtype: int64"
      ]
     },
     "execution_count": 7,
     "metadata": {},
     "output_type": "execute_result"
    }
   ],
   "source": [
    "train.isnull().sum()"
   ]
  },
  {
   "cell_type": "code",
   "execution_count": 8,
   "metadata": {},
   "outputs": [
    {
     "data": {
      "text/html": [
       "<div>\n",
       "<style scoped>\n",
       "    .dataframe tbody tr th:only-of-type {\n",
       "        vertical-align: middle;\n",
       "    }\n",
       "\n",
       "    .dataframe tbody tr th {\n",
       "        vertical-align: top;\n",
       "    }\n",
       "\n",
       "    .dataframe thead th {\n",
       "        text-align: right;\n",
       "    }\n",
       "</style>\n",
       "<table border=\"1\" class=\"dataframe\">\n",
       "  <thead>\n",
       "    <tr style=\"text-align: right;\">\n",
       "      <th></th>\n",
       "      <th>id</th>\n",
       "      <th>gender</th>\n",
       "      <th>age</th>\n",
       "      <th>hypertension</th>\n",
       "      <th>heart_disease</th>\n",
       "      <th>ever_married</th>\n",
       "      <th>work_type</th>\n",
       "      <th>Residence_type</th>\n",
       "      <th>avg_glucose_level</th>\n",
       "      <th>bmi</th>\n",
       "      <th>smoking_status</th>\n",
       "      <th>stroke</th>\n",
       "    </tr>\n",
       "  </thead>\n",
       "  <tbody>\n",
       "    <tr>\n",
       "      <th>0</th>\n",
       "      <td>0</td>\n",
       "      <td>Male</td>\n",
       "      <td>28.0</td>\n",
       "      <td>0</td>\n",
       "      <td>0</td>\n",
       "      <td>Yes</td>\n",
       "      <td>Private</td>\n",
       "      <td>Urban</td>\n",
       "      <td>79.53</td>\n",
       "      <td>31.1</td>\n",
       "      <td>never smoked</td>\n",
       "      <td>0</td>\n",
       "    </tr>\n",
       "    <tr>\n",
       "      <th>1</th>\n",
       "      <td>1</td>\n",
       "      <td>Male</td>\n",
       "      <td>33.0</td>\n",
       "      <td>0</td>\n",
       "      <td>0</td>\n",
       "      <td>Yes</td>\n",
       "      <td>Private</td>\n",
       "      <td>Rural</td>\n",
       "      <td>78.44</td>\n",
       "      <td>23.9</td>\n",
       "      <td>formerly smoked</td>\n",
       "      <td>0</td>\n",
       "    </tr>\n",
       "    <tr>\n",
       "      <th>2</th>\n",
       "      <td>2</td>\n",
       "      <td>Female</td>\n",
       "      <td>42.0</td>\n",
       "      <td>0</td>\n",
       "      <td>0</td>\n",
       "      <td>Yes</td>\n",
       "      <td>Private</td>\n",
       "      <td>Rural</td>\n",
       "      <td>103.00</td>\n",
       "      <td>40.3</td>\n",
       "      <td>Unknown</td>\n",
       "      <td>0</td>\n",
       "    </tr>\n",
       "    <tr>\n",
       "      <th>3</th>\n",
       "      <td>3</td>\n",
       "      <td>Male</td>\n",
       "      <td>56.0</td>\n",
       "      <td>0</td>\n",
       "      <td>0</td>\n",
       "      <td>Yes</td>\n",
       "      <td>Private</td>\n",
       "      <td>Urban</td>\n",
       "      <td>64.87</td>\n",
       "      <td>28.8</td>\n",
       "      <td>never smoked</td>\n",
       "      <td>0</td>\n",
       "    </tr>\n",
       "    <tr>\n",
       "      <th>4</th>\n",
       "      <td>4</td>\n",
       "      <td>Female</td>\n",
       "      <td>24.0</td>\n",
       "      <td>0</td>\n",
       "      <td>0</td>\n",
       "      <td>No</td>\n",
       "      <td>Private</td>\n",
       "      <td>Rural</td>\n",
       "      <td>73.36</td>\n",
       "      <td>28.8</td>\n",
       "      <td>never smoked</td>\n",
       "      <td>0</td>\n",
       "    </tr>\n",
       "  </tbody>\n",
       "</table>\n",
       "</div>"
      ],
      "text/plain": [
       "   id  gender   age  hypertension  heart_disease ever_married work_type  \\\n",
       "0   0    Male  28.0             0              0          Yes   Private   \n",
       "1   1    Male  33.0             0              0          Yes   Private   \n",
       "2   2  Female  42.0             0              0          Yes   Private   \n",
       "3   3    Male  56.0             0              0          Yes   Private   \n",
       "4   4  Female  24.0             0              0           No   Private   \n",
       "\n",
       "  Residence_type  avg_glucose_level   bmi   smoking_status  stroke  \n",
       "0          Urban              79.53  31.1     never smoked       0  \n",
       "1          Rural              78.44  23.9  formerly smoked       0  \n",
       "2          Rural             103.00  40.3          Unknown       0  \n",
       "3          Urban              64.87  28.8     never smoked       0  \n",
       "4          Rural              73.36  28.8     never smoked       0  "
      ]
     },
     "execution_count": 8,
     "metadata": {},
     "output_type": "execute_result"
    }
   ],
   "source": [
    "train.head()"
   ]
  },
  {
   "cell_type": "code",
   "execution_count": 9,
   "metadata": {},
   "outputs": [
    {
     "data": {
      "text/plain": [
       "0    14672\n",
       "1      632\n",
       "Name: stroke, dtype: int64"
      ]
     },
     "execution_count": 9,
     "metadata": {},
     "output_type": "execute_result"
    }
   ],
   "source": [
    "train['stroke'].value_counts()"
   ]
  },
  {
   "cell_type": "code",
   "execution_count": 10,
   "metadata": {},
   "outputs": [
    {
     "data": {
      "text/plain": [
       "(25508, 11)"
      ]
     },
     "execution_count": 10,
     "metadata": {},
     "output_type": "execute_result"
    }
   ],
   "source": [
    "target = train['stroke']\n",
    "\n",
    "data = pd.concat([train.drop('stroke', axis = 1), test]).reset_index(drop = True)\n",
    "\n",
    "data.shape"
   ]
  },
  {
   "cell_type": "code",
   "execution_count": 11,
   "metadata": {},
   "outputs": [],
   "source": [
    "text_features = []\n",
    "\n",
    "for column in data.columns:\n",
    "    if data[column].dtype == 'object':\n",
    "        text_features.append(column)\n",
    "\n",
    "for text_feature in text_features:\n",
    "    data = data.join(pd.get_dummies(data[text_feature]))\n",
    "    data = data.drop(text_feature, axis = 1)"
   ]
  },
  {
   "cell_type": "code",
   "execution_count": 12,
   "metadata": {},
   "outputs": [
    {
     "data": {
      "text/html": [
       "<div>\n",
       "<style scoped>\n",
       "    .dataframe tbody tr th:only-of-type {\n",
       "        vertical-align: middle;\n",
       "    }\n",
       "\n",
       "    .dataframe tbody tr th {\n",
       "        vertical-align: top;\n",
       "    }\n",
       "\n",
       "    .dataframe thead th {\n",
       "        text-align: right;\n",
       "    }\n",
       "</style>\n",
       "<table border=\"1\" class=\"dataframe\">\n",
       "  <thead>\n",
       "    <tr style=\"text-align: right;\">\n",
       "      <th></th>\n",
       "      <th>id</th>\n",
       "      <th>age</th>\n",
       "      <th>hypertension</th>\n",
       "      <th>heart_disease</th>\n",
       "      <th>avg_glucose_level</th>\n",
       "      <th>bmi</th>\n",
       "      <th>Female</th>\n",
       "      <th>Male</th>\n",
       "      <th>Other</th>\n",
       "      <th>No</th>\n",
       "      <th>...</th>\n",
       "      <th>Never_worked</th>\n",
       "      <th>Private</th>\n",
       "      <th>Self-employed</th>\n",
       "      <th>children</th>\n",
       "      <th>Rural</th>\n",
       "      <th>Urban</th>\n",
       "      <th>Unknown</th>\n",
       "      <th>formerly smoked</th>\n",
       "      <th>never smoked</th>\n",
       "      <th>smokes</th>\n",
       "    </tr>\n",
       "  </thead>\n",
       "  <tbody>\n",
       "    <tr>\n",
       "      <th>0</th>\n",
       "      <td>0</td>\n",
       "      <td>28.0</td>\n",
       "      <td>0</td>\n",
       "      <td>0</td>\n",
       "      <td>79.53</td>\n",
       "      <td>31.1</td>\n",
       "      <td>0</td>\n",
       "      <td>1</td>\n",
       "      <td>0</td>\n",
       "      <td>0</td>\n",
       "      <td>...</td>\n",
       "      <td>0</td>\n",
       "      <td>1</td>\n",
       "      <td>0</td>\n",
       "      <td>0</td>\n",
       "      <td>0</td>\n",
       "      <td>1</td>\n",
       "      <td>0</td>\n",
       "      <td>0</td>\n",
       "      <td>1</td>\n",
       "      <td>0</td>\n",
       "    </tr>\n",
       "    <tr>\n",
       "      <th>1</th>\n",
       "      <td>1</td>\n",
       "      <td>33.0</td>\n",
       "      <td>0</td>\n",
       "      <td>0</td>\n",
       "      <td>78.44</td>\n",
       "      <td>23.9</td>\n",
       "      <td>0</td>\n",
       "      <td>1</td>\n",
       "      <td>0</td>\n",
       "      <td>0</td>\n",
       "      <td>...</td>\n",
       "      <td>0</td>\n",
       "      <td>1</td>\n",
       "      <td>0</td>\n",
       "      <td>0</td>\n",
       "      <td>1</td>\n",
       "      <td>0</td>\n",
       "      <td>0</td>\n",
       "      <td>1</td>\n",
       "      <td>0</td>\n",
       "      <td>0</td>\n",
       "    </tr>\n",
       "    <tr>\n",
       "      <th>2</th>\n",
       "      <td>2</td>\n",
       "      <td>42.0</td>\n",
       "      <td>0</td>\n",
       "      <td>0</td>\n",
       "      <td>103.00</td>\n",
       "      <td>40.3</td>\n",
       "      <td>1</td>\n",
       "      <td>0</td>\n",
       "      <td>0</td>\n",
       "      <td>0</td>\n",
       "      <td>...</td>\n",
       "      <td>0</td>\n",
       "      <td>1</td>\n",
       "      <td>0</td>\n",
       "      <td>0</td>\n",
       "      <td>1</td>\n",
       "      <td>0</td>\n",
       "      <td>1</td>\n",
       "      <td>0</td>\n",
       "      <td>0</td>\n",
       "      <td>0</td>\n",
       "    </tr>\n",
       "    <tr>\n",
       "      <th>3</th>\n",
       "      <td>3</td>\n",
       "      <td>56.0</td>\n",
       "      <td>0</td>\n",
       "      <td>0</td>\n",
       "      <td>64.87</td>\n",
       "      <td>28.8</td>\n",
       "      <td>0</td>\n",
       "      <td>1</td>\n",
       "      <td>0</td>\n",
       "      <td>0</td>\n",
       "      <td>...</td>\n",
       "      <td>0</td>\n",
       "      <td>1</td>\n",
       "      <td>0</td>\n",
       "      <td>0</td>\n",
       "      <td>0</td>\n",
       "      <td>1</td>\n",
       "      <td>0</td>\n",
       "      <td>0</td>\n",
       "      <td>1</td>\n",
       "      <td>0</td>\n",
       "    </tr>\n",
       "    <tr>\n",
       "      <th>4</th>\n",
       "      <td>4</td>\n",
       "      <td>24.0</td>\n",
       "      <td>0</td>\n",
       "      <td>0</td>\n",
       "      <td>73.36</td>\n",
       "      <td>28.8</td>\n",
       "      <td>1</td>\n",
       "      <td>0</td>\n",
       "      <td>0</td>\n",
       "      <td>1</td>\n",
       "      <td>...</td>\n",
       "      <td>0</td>\n",
       "      <td>1</td>\n",
       "      <td>0</td>\n",
       "      <td>0</td>\n",
       "      <td>1</td>\n",
       "      <td>0</td>\n",
       "      <td>0</td>\n",
       "      <td>0</td>\n",
       "      <td>1</td>\n",
       "      <td>0</td>\n",
       "    </tr>\n",
       "  </tbody>\n",
       "</table>\n",
       "<p>5 rows × 22 columns</p>\n",
       "</div>"
      ],
      "text/plain": [
       "   id   age  hypertension  heart_disease  avg_glucose_level   bmi  Female  \\\n",
       "0   0  28.0             0              0              79.53  31.1       0   \n",
       "1   1  33.0             0              0              78.44  23.9       0   \n",
       "2   2  42.0             0              0             103.00  40.3       1   \n",
       "3   3  56.0             0              0              64.87  28.8       0   \n",
       "4   4  24.0             0              0              73.36  28.8       1   \n",
       "\n",
       "   Male  Other  No  ...  Never_worked  Private  Self-employed  children  \\\n",
       "0     1      0   0  ...             0        1              0         0   \n",
       "1     1      0   0  ...             0        1              0         0   \n",
       "2     0      0   0  ...             0        1              0         0   \n",
       "3     1      0   0  ...             0        1              0         0   \n",
       "4     0      0   1  ...             0        1              0         0   \n",
       "\n",
       "   Rural  Urban  Unknown  formerly smoked  never smoked  smokes  \n",
       "0      0      1        0                0             1       0  \n",
       "1      1      0        0                1             0       0  \n",
       "2      1      0        1                0             0       0  \n",
       "3      0      1        0                0             1       0  \n",
       "4      1      0        0                0             1       0  \n",
       "\n",
       "[5 rows x 22 columns]"
      ]
     },
     "execution_count": 12,
     "metadata": {},
     "output_type": "execute_result"
    }
   ],
   "source": [
    "data.head()"
   ]
  },
  {
   "cell_type": "code",
   "execution_count": 13,
   "metadata": {},
   "outputs": [
    {
     "data": {
      "text/plain": [
       "((15304, 22), (15304,), (10204, 22))"
      ]
     },
     "execution_count": 13,
     "metadata": {},
     "output_type": "execute_result"
    }
   ],
   "source": [
    "df_train = data.iloc[:len(target), :]\n",
    "\n",
    "df_test = data.iloc[len(target):, :]\n",
    "\n",
    "df_train.shape, target.shape, df_test.shape"
   ]
  },
  {
   "cell_type": "code",
   "execution_count": 14,
   "metadata": {},
   "outputs": [],
   "source": [
    "X_train, X_test, y_train, y_test = model_selection.train_test_split(df_train.drop('id', axis = 1), target, random_state = 42)\n",
    "    \n",
    "# sm = SMOTE(random_state = 42)\n",
    "# X_train, y_train = sm.fit_resample(X_train, y_train)"
   ]
  },
  {
   "cell_type": "code",
   "execution_count": 11,
   "metadata": {},
   "outputs": [],
   "source": [
    "# from lazypredict.Supervised import LazyClassifier\n",
    "\n",
    "# clf = LazyClassifier(verbose=1,ignore_warnings=True, custom_metric=None)\n",
    "\n",
    "# models,predictions = clf.fit(X_train, X_test, y_train, y_test)\n",
    "\n",
    "# print(models)"
   ]
  },
  {
   "cell_type": "code",
   "execution_count": 2,
   "metadata": {},
   "outputs": [
    {
     "ename": "NameError",
     "evalue": "name 'pd' is not defined",
     "output_type": "error",
     "traceback": [
      "\u001b[1;31m---------------------------------------------------------------------------\u001b[0m",
      "\u001b[1;31mNameError\u001b[0m                                 Traceback (most recent call last)",
      "\u001b[1;32mc:\\Users\\Valentin\\Documents\\GitHub\\data-science-competitions\\KAGGLE - TPS S03E02\\notebook.ipynb Cell 14\u001b[0m in \u001b[0;36m<cell line: 25>\u001b[1;34m()\u001b[0m\n\u001b[0;32m      <a href='vscode-notebook-cell:/c%3A/Users/Valentin/Documents/GitHub/data-science-competitions/KAGGLE%20-%20TPS%20S03E02/notebook.ipynb#X16sZmlsZQ%3D%3D?line=4'>5</a>\u001b[0m     \u001b[39mreturn\u001b[39;00m (preds \u001b[39m-\u001b[39m np\u001b[39m.\u001b[39mmin(preds)) \u001b[39m/\u001b[39m (np\u001b[39m.\u001b[39mmax(preds) \u001b[39m-\u001b[39m np\u001b[39m.\u001b[39mmin(preds))\n\u001b[0;32m      <a href='vscode-notebook-cell:/c%3A/Users/Valentin/Documents/GitHub/data-science-competitions/KAGGLE%20-%20TPS%20S03E02/notebook.ipynb#X16sZmlsZQ%3D%3D?line=6'>7</a>\u001b[0m cb_params \u001b[39m=\u001b[39m {\n\u001b[0;32m      <a href='vscode-notebook-cell:/c%3A/Users/Valentin/Documents/GitHub/data-science-competitions/KAGGLE%20-%20TPS%20S03E02/notebook.ipynb#X16sZmlsZQ%3D%3D?line=7'>8</a>\u001b[0m     \u001b[39m'\u001b[39m\u001b[39mdepth\u001b[39m\u001b[39m'\u001b[39m: \u001b[39m3\u001b[39m,\n\u001b[0;32m      <a href='vscode-notebook-cell:/c%3A/Users/Valentin/Documents/GitHub/data-science-competitions/KAGGLE%20-%20TPS%20S03E02/notebook.ipynb#X16sZmlsZQ%3D%3D?line=8'>9</a>\u001b[0m     \u001b[39m'\u001b[39m\u001b[39mlearning_rate\u001b[39m\u001b[39m'\u001b[39m: \u001b[39m0.01\u001b[39m,\n\u001b[1;32m   (...)\u001b[0m\n\u001b[0;32m     <a href='vscode-notebook-cell:/c%3A/Users/Valentin/Documents/GitHub/data-science-competitions/KAGGLE%20-%20TPS%20S03E02/notebook.ipynb#X16sZmlsZQ%3D%3D?line=21'>22</a>\u001b[0m     \u001b[39m'\u001b[39m\u001b[39meval_metric\u001b[39m\u001b[39m'\u001b[39m: \u001b[39m'\u001b[39m\u001b[39mAUC\u001b[39m\u001b[39m'\u001b[39m\n\u001b[0;32m     <a href='vscode-notebook-cell:/c%3A/Users/Valentin/Documents/GitHub/data-science-competitions/KAGGLE%20-%20TPS%20S03E02/notebook.ipynb#X16sZmlsZQ%3D%3D?line=22'>23</a>\u001b[0m }\n\u001b[1;32m---> <a href='vscode-notebook-cell:/c%3A/Users/Valentin/Documents/GitHub/data-science-competitions/KAGGLE%20-%20TPS%20S03E02/notebook.ipynb#X16sZmlsZQ%3D%3D?line=24'>25</a>\u001b[0m f_imp \u001b[39m=\u001b[39m pd\u001b[39m.\u001b[39mDataFrame({\u001b[39m'\u001b[39m\u001b[39mfeature\u001b[39m\u001b[39m'\u001b[39m: df_train\u001b[39m.\u001b[39mcolumns})\n\u001b[0;32m     <a href='vscode-notebook-cell:/c%3A/Users/Valentin/Documents/GitHub/data-science-competitions/KAGGLE%20-%20TPS%20S03E02/notebook.ipynb#X16sZmlsZQ%3D%3D?line=25'>26</a>\u001b[0m predictions, scores \u001b[39m=\u001b[39m np\u001b[39m.\u001b[39mzeros(\u001b[39mlen\u001b[39m(df_test)), []\n\u001b[0;32m     <a href='vscode-notebook-cell:/c%3A/Users/Valentin/Documents/GitHub/data-science-competitions/KAGGLE%20-%20TPS%20S03E02/notebook.ipynb#X16sZmlsZQ%3D%3D?line=27'>28</a>\u001b[0m k \u001b[39m=\u001b[39m model_selection\u001b[39m.\u001b[39mStratifiedKFold(n_splits\u001b[39m=\u001b[39mFOLDS, random_state\u001b[39m=\u001b[39mseed, shuffle\u001b[39m=\u001b[39m\u001b[39mTrue\u001b[39;00m)\n",
      "\u001b[1;31mNameError\u001b[0m: name 'pd' is not defined"
     ]
    }
   ],
   "source": [
    "FOLDS = 10\n",
    "seed = 69\n",
    "\n",
    "def norm_0to1(preds):\n",
    "    return (preds - np.min(preds)) / (np.max(preds) - np.min(preds))\n",
    "\n",
    "cb_params = {\n",
    "    'depth': 3,\n",
    "    'learning_rate': 0.01,\n",
    "    'rsm': 0.5,\n",
    "    'subsample': 0.931,\n",
    "    'l2_leaf_reg': 69,\n",
    "    'min_data_in_leaf': 20,\n",
    "    'random_strength': 0.175,\n",
    "    \n",
    "    'random_seed': seed,\n",
    "    'use_best_model': True,\n",
    "    'task_type': 'CPU',\n",
    "    'bootstrap_type': 'Bernoulli',\n",
    "    'grow_policy': 'SymmetricTree',\n",
    "    'loss_function': 'Logloss',\n",
    "    'eval_metric': 'AUC'\n",
    "}\n",
    "\n",
    "f_imp = pd.DataFrame({'feature': df_train.columns})\n",
    "predictions, scores = np.zeros(len(df_test)), []\n",
    "\n",
    "k = model_selection.StratifiedKFold(n_splits=FOLDS, random_state=seed, shuffle=True)\n",
    "for fold, (train_idx, val_idx) in enumerate(k.split(df_train, target)):    \n",
    "    cb_train = cb.Pool(data=df_train.iloc[train_idx],\n",
    "                       label=target.iloc[train_idx])\n",
    "    cb_valid = cb.Pool(data=df_train.iloc[val_idx],\n",
    "                       label=target.iloc[val_idx])\n",
    "    \n",
    "    model = cb.train(params=cb_params,\n",
    "                     dtrain=cb_train,\n",
    "                     num_boost_round=10000,\n",
    "                     evals=cb_valid, \n",
    "                     early_stopping_rounds=500,\n",
    "                     verbose=False)\n",
    "    \n",
    "    f_imp['fold_'+str(fold+1)] = model.get_feature_importance()\n",
    "    val_preds = model.predict(cb_valid)\n",
    "    val_score = metrics.roc_auc_score(target.iloc[val_idx], val_preds)\n",
    "    scores.append(val_score)\n",
    "    \n",
    "    predictions += model.predict(df_test) / FOLDS\n",
    "    print(f'- FOLD {fold+1} AUC: {bold[0]}{round(val_score, 4)}{bold[1]} -')\n",
    "    \n",
    "    del cb_train, cb_valid, val_preds, val_score, model\n",
    "    gc.collect()\n",
    "\n",
    "print('*'*45)\n",
    "print(f'Mean AUC: {bold[0]}{round(np.mean(scores), 4)}{bold[1]}')\n",
    "\n",
    "predictions = norm_0to1(predictions)\n",
    "f_importance_plot(f_imp)\n",
    "preds_plot(predictions)"
   ]
  },
  {
   "cell_type": "code",
   "execution_count": 26,
   "metadata": {},
   "outputs": [],
   "source": []
  },
  {
   "cell_type": "code",
   "execution_count": 1,
   "metadata": {},
   "outputs": [
    {
     "name": "stderr",
     "output_type": "stream",
     "text": [
      "\n",
      "KeyboardInterrupt\n",
      "\n"
     ]
    }
   ],
   "source": [
    "predictions = norm_0to1(predictions)\n",
    "predictions"
   ]
  },
  {
   "cell_type": "code",
   "execution_count": 29,
   "metadata": {},
   "outputs": [],
   "source": [
    "cb_preds = predictions\n",
    "ss['stroke'] = predictions\n",
    "ss.to_csv('cb_submission.csv', index=False)"
   ]
  },
  {
   "cell_type": "code",
   "execution_count": 12,
   "metadata": {},
   "outputs": [],
   "source": [
    "def train_and_report(model):\n",
    "    \n",
    "    model.fit(X_train, y_train)\n",
    "    \n",
    "    y_pred = model.predict(X_test)\n",
    "    \n",
    "    print(metrics.classification_report(y_test, y_pred))\n",
    "    print(metrics.roc_auc_score(y_test, y_pred))\n",
    "    \n",
    "    return model"
   ]
  },
  {
   "cell_type": "code",
   "execution_count": 13,
   "metadata": {},
   "outputs": [
    {
     "name": "stdout",
     "output_type": "stream",
     "text": [
      "              precision    recall  f1-score   support\n",
      "\n",
      "           0       0.96      0.99      0.98      3667\n",
      "           1       0.26      0.05      0.08       159\n",
      "\n",
      "    accuracy                           0.95      3826\n",
      "   macro avg       0.61      0.52      0.53      3826\n",
      "weighted avg       0.93      0.95      0.94      3826\n",
      "\n",
      "0.5220211541660877\n"
     ]
    }
   ],
   "source": [
    "model = train_and_report(naive_bayes.BernoulliNB())"
   ]
  },
  {
   "cell_type": "code",
   "execution_count": 14,
   "metadata": {},
   "outputs": [
    {
     "name": "stdout",
     "output_type": "stream",
     "text": [
      "              precision    recall  f1-score   support\n",
      "\n",
      "           0       0.96      0.99      0.98      3667\n",
      "           1       0.32      0.06      0.10       159\n",
      "\n",
      "    accuracy                           0.96      3826\n",
      "   macro avg       0.64      0.53      0.54      3826\n",
      "weighted avg       0.93      0.96      0.94      3826\n",
      "\n",
      "0.5257112132173233\n"
     ]
    }
   ],
   "source": [
    "import lightgbm\n",
    "model = train_and_report(lightgbm.LGBMClassifier())"
   ]
  },
  {
   "cell_type": "code",
   "execution_count": 78,
   "metadata": {},
   "outputs": [],
   "source": [
    "submission = df_test.copy()\n",
    "\n",
    "submission['output'] = model.predict(submission.drop('id', axis = 1))\n",
    "submission[['no_stroke', 'stroke']] = model.predict_proba(submission.drop(['id', 'output'], axis = 1))"
   ]
  },
  {
   "cell_type": "code",
   "execution_count": 79,
   "metadata": {},
   "outputs": [],
   "source": [
    "submission[['id', 'stroke']].to_csv('submission.csv', index = False)"
   ]
  }
 ],
 "metadata": {
  "kernelspec": {
   "display_name": "Python 3",
   "language": "python",
   "name": "python3"
  },
  "language_info": {
   "codemirror_mode": {
    "name": "ipython",
    "version": 3
   },
   "file_extension": ".py",
   "mimetype": "text/x-python",
   "name": "python",
   "nbconvert_exporter": "python",
   "pygments_lexer": "ipython3",
   "version": "3.10.5"
  },
  "orig_nbformat": 4,
  "vscode": {
   "interpreter": {
    "hash": "38ab5aec3b6b6d2a13455cf3c0e7673913054737acc71c96a9f271dcbc4106af"
   }
  }
 },
 "nbformat": 4,
 "nbformat_minor": 2
}
