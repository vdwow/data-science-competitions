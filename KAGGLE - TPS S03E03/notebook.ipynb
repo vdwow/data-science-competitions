{
 "cells": [
  {
   "cell_type": "code",
   "execution_count": null,
   "metadata": {},
   "outputs": [],
   "source": [
    "import pandas as pd\n",
    "import numpy as np\n",
    "\n",
    "import gc\n",
    "\n",
    "from imblearn.over_sampling import SMOTE\n",
    "\n",
    "import catboost as cb\n",
    "from sklearn import model_selection, metrics, linear_model, ensemble, naive_bayes, neighbors, svm, tree\n",
    "from xgboost import XGBClassifier"
   ]
  },
  {
   "cell_type": "code",
   "execution_count": null,
   "metadata": {},
   "outputs": [],
   "source": [
    "train = pd.read_csv(r'./data/train.csv')\n",
    "train_o = pd.read_csv(r'./data/train_original.csv')\n",
    "test = pd.read_csv(r'./data/test.csv')\n",
    "ss = pd.read_csv(r'./data/sample_submission.csv')"
   ]
  },
  {
   "cell_type": "code",
   "execution_count": null,
   "metadata": {},
   "outputs": [],
   "source": [
    "print(train.shape, train_o.shape, test.shape)"
   ]
  },
  {
   "cell_type": "code",
   "execution_count": null,
   "metadata": {},
   "outputs": [],
   "source": [
    "train.isnull().sum()"
   ]
  },
  {
   "cell_type": "code",
   "execution_count": null,
   "metadata": {},
   "outputs": [],
   "source": [
    "train_o.isnull().sum()"
   ]
  },
  {
   "cell_type": "code",
   "execution_count": null,
   "metadata": {},
   "outputs": [],
   "source": [
    "display(train.head())\n",
    "display(train_o.head())"
   ]
  },
  {
   "cell_type": "code",
   "execution_count": null,
   "metadata": {},
   "outputs": [],
   "source": [
    "display(train['Attrition'].value_counts())\n",
    "display(train_o['Attrition'].value_counts())"
   ]
  },
  {
   "cell_type": "code",
   "execution_count": null,
   "metadata": {},
   "outputs": [],
   "source": [
    "train_o['Attrition'] = train_o['Attrition'].map(lambda x: 1 if x == \"Yes\" else 0)\n",
    "train_o['id'] = train_o['EmployeeNumber']"
   ]
  },
  {
   "cell_type": "code",
   "execution_count": null,
   "metadata": {},
   "outputs": [],
   "source": [
    "train_all = pd.concat([train, train_o.drop('EmployeeNumber', axis = 1)])"
   ]
  },
  {
   "cell_type": "code",
   "execution_count": null,
   "metadata": {},
   "outputs": [],
   "source": [
    "display(train_all.shape)\n",
    "display(train_all['Attrition'].value_counts())"
   ]
  },
  {
   "cell_type": "code",
   "execution_count": null,
   "metadata": {},
   "outputs": [],
   "source": [
    "target = train_all['Attrition']\n",
    "\n",
    "data = pd.concat([train_all.drop('Attrition', axis = 1), test]).reset_index(drop = True)\n",
    "\n",
    "print(train_all.shape, test.shape, data.shape)"
   ]
  },
  {
   "cell_type": "code",
   "execution_count": null,
   "metadata": {},
   "outputs": [],
   "source": [
    "data.info()"
   ]
  },
  {
   "cell_type": "code",
   "execution_count": null,
   "metadata": {},
   "outputs": [],
   "source": [
    "text_features = []\n",
    "\n",
    "for column in data.columns:\n",
    "    if data[column].dtype == 'object':\n",
    "        text_features.append(column)\n",
    "\n",
    "for text_feature in text_features:\n",
    "    data = data.join(pd.get_dummies(data[text_feature], prefix=text_feature))\n",
    "    data = data.drop(text_feature, axis = 1)"
   ]
  },
  {
   "cell_type": "code",
   "execution_count": null,
   "metadata": {},
   "outputs": [],
   "source": [
    "data.head()"
   ]
  },
  {
   "cell_type": "code",
   "execution_count": null,
   "metadata": {},
   "outputs": [],
   "source": [
    "df_train = data.iloc[:len(target), :]\n",
    "\n",
    "df_test = data.iloc[len(target):, :]\n",
    "\n",
    "df_train.shape, target.shape, df_test.shape"
   ]
  },
  {
   "cell_type": "code",
   "execution_count": null,
   "metadata": {},
   "outputs": [],
   "source": [
    "X_train, X_test, y_train, y_test = model_selection.train_test_split(df_train.drop('id', axis = 1), target, random_state = 42)\n",
    "    \n",
    "# sm = SMOTE(random_state = 42)\n",
    "# X_train, y_train = sm.fit_resample(X_train, y_train)"
   ]
  },
  {
   "cell_type": "code",
   "execution_count": null,
   "metadata": {},
   "outputs": [],
   "source": [
    "FOLDS = 10\n",
    "seed = 69\n",
    "\n",
    "def norm_0to1(preds):\n",
    "    return (preds - np.min(preds)) / (np.max(preds) - np.min(preds))\n",
    "\n",
    "cb_params = {\n",
    "    'depth': 3,\n",
    "    'learning_rate': 0.01,\n",
    "    'rsm': 0.5,\n",
    "    'subsample': 0.931,\n",
    "    'l2_leaf_reg': 69,\n",
    "    'min_data_in_leaf': 20,\n",
    "    'random_strength': 0.175,\n",
    "    \n",
    "    'random_seed': seed,\n",
    "    'use_best_model': True,\n",
    "    'task_type': 'CPU',\n",
    "    'bootstrap_type': 'Bernoulli',\n",
    "    'grow_policy': 'SymmetricTree',\n",
    "    'loss_function': 'Logloss',\n",
    "    'eval_metric': 'AUC'\n",
    "}\n",
    "\n",
    "f_imp = pd.DataFrame({'feature': df_train.columns})\n",
    "predictions, scores = np.zeros(len(df_test)), []\n",
    "\n",
    "k = model_selection.StratifiedKFold(n_splits=FOLDS, random_state=seed, shuffle=True)\n",
    "for fold, (train_idx, val_idx) in enumerate(k.split(df_train, target)):    \n",
    "    cb_train = cb.Pool(data=df_train.iloc[train_idx],\n",
    "                       label=target.iloc[train_idx])\n",
    "    cb_valid = cb.Pool(data=df_train.iloc[val_idx],\n",
    "                       label=target.iloc[val_idx])\n",
    "    \n",
    "    model = cb.train(params=cb_params,\n",
    "                     dtrain=cb_train,\n",
    "                     num_boost_round=10000,\n",
    "                     evals=cb_valid, \n",
    "                     early_stopping_rounds=500,\n",
    "                     verbose=False)\n",
    "    \n",
    "    f_imp['fold_'+str(fold+1)] = model.get_feature_importance()\n",
    "    val_preds = model.predict(cb_valid)\n",
    "    val_score = metrics.roc_auc_score(target.iloc[val_idx], val_preds)\n",
    "    scores.append(val_score)\n",
    "    \n",
    "    predictions += model.predict(df_test) / FOLDS\n",
    "    print(f'- FOLD {fold+1} AUC: {round(val_score, 4)} -')\n",
    "    \n",
    "    del cb_train, cb_valid, val_preds, val_score, model\n",
    "    gc.collect()\n",
    "\n",
    "print('*'*45)\n",
    "print(f'Mean AUC: {round(np.mean(scores), 4)}')\n",
    "\n",
    "predictions = norm_0to1(predictions)"
   ]
  },
  {
   "cell_type": "code",
   "execution_count": null,
   "metadata": {},
   "outputs": [],
   "source": [
    "cb_preds = predictions\n",
    "ss['Attrition'] = predictions\n",
    "ss.to_csv('cb_submission.csv', index=False)"
   ]
  }
 ],
 "metadata": {
  "kernelspec": {
   "display_name": "Python 3",
   "language": "python",
   "name": "python3"
  },
  "language_info": {
   "codemirror_mode": {
    "name": "ipython",
    "version": 3
   },
   "file_extension": ".py",
   "mimetype": "text/x-python",
   "name": "python",
   "nbconvert_exporter": "python",
   "pygments_lexer": "ipython3",
   "version": "3.10.5 (tags/v3.10.5:f377153, Jun  6 2022, 16:14:13) [MSC v.1929 64 bit (AMD64)]"
  },
  "orig_nbformat": 4,
  "vscode": {
   "interpreter": {
    "hash": "38ab5aec3b6b6d2a13455cf3c0e7673913054737acc71c96a9f271dcbc4106af"
   }
  }
 },
 "nbformat": 4,
 "nbformat_minor": 2
}
