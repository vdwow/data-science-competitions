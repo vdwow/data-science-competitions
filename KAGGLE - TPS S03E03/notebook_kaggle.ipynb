{
 "cells": [
  {
   "cell_type": "code",
   "execution_count": 1,
   "id": "b4640828",
   "metadata": {
    "_cell_guid": "b1076dfc-b9ad-4769-8c92-a6c4dae69d19",
    "_uuid": "8f2839f25d086af736a60e9eeb907d3b93b6e0e5",
    "execution": {
     "iopub.execute_input": "2023-01-17T15:09:47.140422Z",
     "iopub.status.busy": "2023-01-17T15:09:47.139648Z",
     "iopub.status.idle": "2023-01-17T15:09:50.030721Z",
     "shell.execute_reply": "2023-01-17T15:09:50.029320Z"
    },
    "papermill": {
     "duration": 2.906359,
     "end_time": "2023-01-17T15:09:50.033635",
     "exception": false,
     "start_time": "2023-01-17T15:09:47.127276",
     "status": "completed"
    },
    "tags": []
   },
   "outputs": [
    {
     "data": {
      "text/html": [
       "<style type='text/css'>\n",
       ".datatable table.frame { margin-bottom: 0; }\n",
       ".datatable table.frame thead { border-bottom: none; }\n",
       ".datatable table.frame tr.coltypes td {  color: #FFFFFF;  line-height: 6px;  padding: 0 0.5em;}\n",
       ".datatable .bool    { background: #DDDD99; }\n",
       ".datatable .object  { background: #565656; }\n",
       ".datatable .int     { background: #5D9E5D; }\n",
       ".datatable .float   { background: #4040CC; }\n",
       ".datatable .str     { background: #CC4040; }\n",
       ".datatable .time    { background: #40CC40; }\n",
       ".datatable .row_index {  background: var(--jp-border-color3);  border-right: 1px solid var(--jp-border-color0);  color: var(--jp-ui-font-color3);  font-size: 9px;}\n",
       ".datatable .frame tbody td { text-align: left; }\n",
       ".datatable .frame tr.coltypes .row_index {  background: var(--jp-border-color0);}\n",
       ".datatable th:nth-child(2) { padding-left: 12px; }\n",
       ".datatable .hellipsis {  color: var(--jp-cell-editor-border-color);}\n",
       ".datatable .vellipsis {  background: var(--jp-layout-color0);  color: var(--jp-cell-editor-border-color);}\n",
       ".datatable .na {  color: var(--jp-cell-editor-border-color);  font-size: 80%;}\n",
       ".datatable .sp {  opacity: 0.25;}\n",
       ".datatable .footer { font-size: 9px; }\n",
       ".datatable .frame_dimensions {  background: var(--jp-border-color3);  border-top: 1px solid var(--jp-border-color0);  color: var(--jp-ui-font-color3);  display: inline-block;  opacity: 0.6;  padding: 1px 10px 1px 5px;}\n",
       "</style>\n"
      ],
      "text/plain": [
       "<IPython.core.display.HTML object>"
      ]
     },
     "metadata": {},
     "output_type": "display_data"
    },
    {
     "name": "stdout",
     "output_type": "stream",
     "text": [
      "/kaggle/input/ibm-hr-analytics-attrition-dataset/WA_Fn-UseC_-HR-Employee-Attrition.csv\n",
      "/kaggle/input/playground-series-s3e3/sample_submission.csv\n",
      "/kaggle/input/playground-series-s3e3/train.csv\n",
      "/kaggle/input/playground-series-s3e3/test.csv\n"
     ]
    }
   ],
   "source": [
    "import numpy as np\n",
    "import pandas as pd\n",
    "\n",
    "from imblearn.over_sampling import SMOTE\n",
    "\n",
    "import catboost as cb\n",
    "from sklearn import model_selection, metrics, linear_model, ensemble, naive_bayes, neighbors, svm, tree\n",
    "from xgboost import XGBClassifier\n",
    "import lightgbm\n",
    "\n",
    "import os\n",
    "import gc\n",
    "for dirname, _, filenames in os.walk('/kaggle/input'):\n",
    "    for filename in filenames:\n",
    "        print(os.path.join(dirname, filename))"
   ]
  },
  {
   "cell_type": "code",
   "execution_count": 2,
   "id": "dd552732",
   "metadata": {
    "execution": {
     "iopub.execute_input": "2023-01-17T15:09:50.049976Z",
     "iopub.status.busy": "2023-01-17T15:09:50.049526Z",
     "iopub.status.idle": "2023-01-17T15:09:50.118651Z",
     "shell.execute_reply": "2023-01-17T15:09:50.117516Z"
    },
    "papermill": {
     "duration": 0.080381,
     "end_time": "2023-01-17T15:09:50.121329",
     "exception": false,
     "start_time": "2023-01-17T15:09:50.040948",
     "status": "completed"
    },
    "tags": []
   },
   "outputs": [],
   "source": [
    "train = pd.read_csv(r'/kaggle/input/playground-series-s3e3/train.csv')\n",
    "train_o = pd.read_csv(r'/kaggle/input/ibm-hr-analytics-attrition-dataset/WA_Fn-UseC_-HR-Employee-Attrition.csv')\n",
    "test = pd.read_csv(r'/kaggle/input/playground-series-s3e3/test.csv')\n",
    "ss = pd.read_csv(r'/kaggle/input/playground-series-s3e3/sample_submission.csv')"
   ]
  },
  {
   "cell_type": "code",
   "execution_count": 3,
   "id": "735845e1",
   "metadata": {
    "execution": {
     "iopub.execute_input": "2023-01-17T15:09:50.138236Z",
     "iopub.status.busy": "2023-01-17T15:09:50.137509Z",
     "iopub.status.idle": "2023-01-17T15:09:50.144556Z",
     "shell.execute_reply": "2023-01-17T15:09:50.143290Z"
    },
    "papermill": {
     "duration": 0.019275,
     "end_time": "2023-01-17T15:09:50.147828",
     "exception": false,
     "start_time": "2023-01-17T15:09:50.128553",
     "status": "completed"
    },
    "tags": []
   },
   "outputs": [
    {
     "name": "stdout",
     "output_type": "stream",
     "text": [
      "(1677, 35) (1470, 35) (1119, 34)\n"
     ]
    }
   ],
   "source": [
    "print(train.shape, train_o.shape, test.shape)"
   ]
  },
  {
   "cell_type": "code",
   "execution_count": 4,
   "id": "097f3106",
   "metadata": {
    "execution": {
     "iopub.execute_input": "2023-01-17T15:09:50.165036Z",
     "iopub.status.busy": "2023-01-17T15:09:50.164274Z",
     "iopub.status.idle": "2023-01-17T15:09:50.192361Z",
     "shell.execute_reply": "2023-01-17T15:09:50.191141Z"
    },
    "papermill": {
     "duration": 0.039306,
     "end_time": "2023-01-17T15:09:50.195096",
     "exception": false,
     "start_time": "2023-01-17T15:09:50.155790",
     "status": "completed"
    },
    "tags": []
   },
   "outputs": [
    {
     "data": {
      "text/plain": [
       "Age                         0.0\n",
       "Attrition                   0.0\n",
       "BusinessTravel              0.0\n",
       "DailyRate                   0.0\n",
       "Department                  0.0\n",
       "DistanceFromHome            0.0\n",
       "Education                   0.0\n",
       "EducationField              0.0\n",
       "EmployeeCount               0.0\n",
       "EmployeeNumber              NaN\n",
       "EnvironmentSatisfaction     0.0\n",
       "Gender                      0.0\n",
       "HourlyRate                  0.0\n",
       "JobInvolvement              0.0\n",
       "JobLevel                    0.0\n",
       "JobRole                     0.0\n",
       "JobSatisfaction             0.0\n",
       "MaritalStatus               0.0\n",
       "MonthlyIncome               0.0\n",
       "MonthlyRate                 0.0\n",
       "NumCompaniesWorked          0.0\n",
       "Over18                      0.0\n",
       "OverTime                    0.0\n",
       "PercentSalaryHike           0.0\n",
       "PerformanceRating           0.0\n",
       "RelationshipSatisfaction    0.0\n",
       "StandardHours               0.0\n",
       "StockOptionLevel            0.0\n",
       "TotalWorkingYears           0.0\n",
       "TrainingTimesLastYear       0.0\n",
       "WorkLifeBalance             0.0\n",
       "YearsAtCompany              0.0\n",
       "YearsInCurrentRole          0.0\n",
       "YearsSinceLastPromotion     0.0\n",
       "YearsWithCurrManager        0.0\n",
       "id                          NaN\n",
       "dtype: float64"
      ]
     },
     "execution_count": 4,
     "metadata": {},
     "output_type": "execute_result"
    }
   ],
   "source": [
    "train.isnull().sum() + train_o.isnull().sum()"
   ]
  },
  {
   "cell_type": "code",
   "execution_count": 5,
   "id": "6121f72b",
   "metadata": {
    "execution": {
     "iopub.execute_input": "2023-01-17T15:09:50.212305Z",
     "iopub.status.busy": "2023-01-17T15:09:50.211592Z",
     "iopub.status.idle": "2023-01-17T15:09:50.257904Z",
     "shell.execute_reply": "2023-01-17T15:09:50.256672Z"
    },
    "papermill": {
     "duration": 0.057959,
     "end_time": "2023-01-17T15:09:50.260513",
     "exception": false,
     "start_time": "2023-01-17T15:09:50.202554",
     "status": "completed"
    },
    "tags": []
   },
   "outputs": [
    {
     "data": {
      "text/html": [
       "<div>\n",
       "<style scoped>\n",
       "    .dataframe tbody tr th:only-of-type {\n",
       "        vertical-align: middle;\n",
       "    }\n",
       "\n",
       "    .dataframe tbody tr th {\n",
       "        vertical-align: top;\n",
       "    }\n",
       "\n",
       "    .dataframe thead th {\n",
       "        text-align: right;\n",
       "    }\n",
       "</style>\n",
       "<table border=\"1\" class=\"dataframe\">\n",
       "  <thead>\n",
       "    <tr style=\"text-align: right;\">\n",
       "      <th></th>\n",
       "      <th>id</th>\n",
       "      <th>Age</th>\n",
       "      <th>BusinessTravel</th>\n",
       "      <th>DailyRate</th>\n",
       "      <th>Department</th>\n",
       "      <th>DistanceFromHome</th>\n",
       "      <th>Education</th>\n",
       "      <th>EducationField</th>\n",
       "      <th>EmployeeCount</th>\n",
       "      <th>EnvironmentSatisfaction</th>\n",
       "      <th>...</th>\n",
       "      <th>StandardHours</th>\n",
       "      <th>StockOptionLevel</th>\n",
       "      <th>TotalWorkingYears</th>\n",
       "      <th>TrainingTimesLastYear</th>\n",
       "      <th>WorkLifeBalance</th>\n",
       "      <th>YearsAtCompany</th>\n",
       "      <th>YearsInCurrentRole</th>\n",
       "      <th>YearsSinceLastPromotion</th>\n",
       "      <th>YearsWithCurrManager</th>\n",
       "      <th>Attrition</th>\n",
       "    </tr>\n",
       "  </thead>\n",
       "  <tbody>\n",
       "    <tr>\n",
       "      <th>0</th>\n",
       "      <td>0</td>\n",
       "      <td>36</td>\n",
       "      <td>Travel_Frequently</td>\n",
       "      <td>599</td>\n",
       "      <td>Research &amp; Development</td>\n",
       "      <td>24</td>\n",
       "      <td>3</td>\n",
       "      <td>Medical</td>\n",
       "      <td>1</td>\n",
       "      <td>4</td>\n",
       "      <td>...</td>\n",
       "      <td>80</td>\n",
       "      <td>1</td>\n",
       "      <td>10</td>\n",
       "      <td>2</td>\n",
       "      <td>3</td>\n",
       "      <td>10</td>\n",
       "      <td>0</td>\n",
       "      <td>7</td>\n",
       "      <td>8</td>\n",
       "      <td>0</td>\n",
       "    </tr>\n",
       "    <tr>\n",
       "      <th>1</th>\n",
       "      <td>1</td>\n",
       "      <td>35</td>\n",
       "      <td>Travel_Rarely</td>\n",
       "      <td>921</td>\n",
       "      <td>Sales</td>\n",
       "      <td>8</td>\n",
       "      <td>3</td>\n",
       "      <td>Other</td>\n",
       "      <td>1</td>\n",
       "      <td>1</td>\n",
       "      <td>...</td>\n",
       "      <td>80</td>\n",
       "      <td>1</td>\n",
       "      <td>4</td>\n",
       "      <td>3</td>\n",
       "      <td>3</td>\n",
       "      <td>4</td>\n",
       "      <td>2</td>\n",
       "      <td>0</td>\n",
       "      <td>3</td>\n",
       "      <td>0</td>\n",
       "    </tr>\n",
       "    <tr>\n",
       "      <th>2</th>\n",
       "      <td>2</td>\n",
       "      <td>32</td>\n",
       "      <td>Travel_Rarely</td>\n",
       "      <td>718</td>\n",
       "      <td>Sales</td>\n",
       "      <td>26</td>\n",
       "      <td>3</td>\n",
       "      <td>Marketing</td>\n",
       "      <td>1</td>\n",
       "      <td>3</td>\n",
       "      <td>...</td>\n",
       "      <td>80</td>\n",
       "      <td>2</td>\n",
       "      <td>4</td>\n",
       "      <td>3</td>\n",
       "      <td>3</td>\n",
       "      <td>3</td>\n",
       "      <td>2</td>\n",
       "      <td>1</td>\n",
       "      <td>2</td>\n",
       "      <td>0</td>\n",
       "    </tr>\n",
       "    <tr>\n",
       "      <th>3</th>\n",
       "      <td>3</td>\n",
       "      <td>38</td>\n",
       "      <td>Travel_Rarely</td>\n",
       "      <td>1488</td>\n",
       "      <td>Research &amp; Development</td>\n",
       "      <td>2</td>\n",
       "      <td>3</td>\n",
       "      <td>Medical</td>\n",
       "      <td>1</td>\n",
       "      <td>3</td>\n",
       "      <td>...</td>\n",
       "      <td>80</td>\n",
       "      <td>0</td>\n",
       "      <td>15</td>\n",
       "      <td>1</td>\n",
       "      <td>1</td>\n",
       "      <td>6</td>\n",
       "      <td>0</td>\n",
       "      <td>0</td>\n",
       "      <td>2</td>\n",
       "      <td>0</td>\n",
       "    </tr>\n",
       "    <tr>\n",
       "      <th>4</th>\n",
       "      <td>4</td>\n",
       "      <td>50</td>\n",
       "      <td>Travel_Rarely</td>\n",
       "      <td>1017</td>\n",
       "      <td>Research &amp; Development</td>\n",
       "      <td>5</td>\n",
       "      <td>4</td>\n",
       "      <td>Medical</td>\n",
       "      <td>1</td>\n",
       "      <td>2</td>\n",
       "      <td>...</td>\n",
       "      <td>80</td>\n",
       "      <td>0</td>\n",
       "      <td>31</td>\n",
       "      <td>0</td>\n",
       "      <td>3</td>\n",
       "      <td>31</td>\n",
       "      <td>14</td>\n",
       "      <td>4</td>\n",
       "      <td>10</td>\n",
       "      <td>1</td>\n",
       "    </tr>\n",
       "  </tbody>\n",
       "</table>\n",
       "<p>5 rows × 35 columns</p>\n",
       "</div>"
      ],
      "text/plain": [
       "   id  Age     BusinessTravel  DailyRate              Department  \\\n",
       "0   0   36  Travel_Frequently        599  Research & Development   \n",
       "1   1   35      Travel_Rarely        921                   Sales   \n",
       "2   2   32      Travel_Rarely        718                   Sales   \n",
       "3   3   38      Travel_Rarely       1488  Research & Development   \n",
       "4   4   50      Travel_Rarely       1017  Research & Development   \n",
       "\n",
       "   DistanceFromHome  Education EducationField  EmployeeCount  \\\n",
       "0                24          3        Medical              1   \n",
       "1                 8          3          Other              1   \n",
       "2                26          3      Marketing              1   \n",
       "3                 2          3        Medical              1   \n",
       "4                 5          4        Medical              1   \n",
       "\n",
       "   EnvironmentSatisfaction  ... StandardHours  StockOptionLevel  \\\n",
       "0                        4  ...            80                 1   \n",
       "1                        1  ...            80                 1   \n",
       "2                        3  ...            80                 2   \n",
       "3                        3  ...            80                 0   \n",
       "4                        2  ...            80                 0   \n",
       "\n",
       "   TotalWorkingYears  TrainingTimesLastYear WorkLifeBalance  YearsAtCompany  \\\n",
       "0                 10                      2               3              10   \n",
       "1                  4                      3               3               4   \n",
       "2                  4                      3               3               3   \n",
       "3                 15                      1               1               6   \n",
       "4                 31                      0               3              31   \n",
       "\n",
       "  YearsInCurrentRole  YearsSinceLastPromotion  YearsWithCurrManager  Attrition  \n",
       "0                  0                        7                     8          0  \n",
       "1                  2                        0                     3          0  \n",
       "2                  2                        1                     2          0  \n",
       "3                  0                        0                     2          0  \n",
       "4                 14                        4                    10          1  \n",
       "\n",
       "[5 rows x 35 columns]"
      ]
     },
     "metadata": {},
     "output_type": "display_data"
    },
    {
     "data": {
      "text/html": [
       "<div>\n",
       "<style scoped>\n",
       "    .dataframe tbody tr th:only-of-type {\n",
       "        vertical-align: middle;\n",
       "    }\n",
       "\n",
       "    .dataframe tbody tr th {\n",
       "        vertical-align: top;\n",
       "    }\n",
       "\n",
       "    .dataframe thead th {\n",
       "        text-align: right;\n",
       "    }\n",
       "</style>\n",
       "<table border=\"1\" class=\"dataframe\">\n",
       "  <thead>\n",
       "    <tr style=\"text-align: right;\">\n",
       "      <th></th>\n",
       "      <th>Age</th>\n",
       "      <th>Attrition</th>\n",
       "      <th>BusinessTravel</th>\n",
       "      <th>DailyRate</th>\n",
       "      <th>Department</th>\n",
       "      <th>DistanceFromHome</th>\n",
       "      <th>Education</th>\n",
       "      <th>EducationField</th>\n",
       "      <th>EmployeeCount</th>\n",
       "      <th>EmployeeNumber</th>\n",
       "      <th>...</th>\n",
       "      <th>RelationshipSatisfaction</th>\n",
       "      <th>StandardHours</th>\n",
       "      <th>StockOptionLevel</th>\n",
       "      <th>TotalWorkingYears</th>\n",
       "      <th>TrainingTimesLastYear</th>\n",
       "      <th>WorkLifeBalance</th>\n",
       "      <th>YearsAtCompany</th>\n",
       "      <th>YearsInCurrentRole</th>\n",
       "      <th>YearsSinceLastPromotion</th>\n",
       "      <th>YearsWithCurrManager</th>\n",
       "    </tr>\n",
       "  </thead>\n",
       "  <tbody>\n",
       "    <tr>\n",
       "      <th>0</th>\n",
       "      <td>41</td>\n",
       "      <td>Yes</td>\n",
       "      <td>Travel_Rarely</td>\n",
       "      <td>1102</td>\n",
       "      <td>Sales</td>\n",
       "      <td>1</td>\n",
       "      <td>2</td>\n",
       "      <td>Life Sciences</td>\n",
       "      <td>1</td>\n",
       "      <td>1</td>\n",
       "      <td>...</td>\n",
       "      <td>1</td>\n",
       "      <td>80</td>\n",
       "      <td>0</td>\n",
       "      <td>8</td>\n",
       "      <td>0</td>\n",
       "      <td>1</td>\n",
       "      <td>6</td>\n",
       "      <td>4</td>\n",
       "      <td>0</td>\n",
       "      <td>5</td>\n",
       "    </tr>\n",
       "    <tr>\n",
       "      <th>1</th>\n",
       "      <td>49</td>\n",
       "      <td>No</td>\n",
       "      <td>Travel_Frequently</td>\n",
       "      <td>279</td>\n",
       "      <td>Research &amp; Development</td>\n",
       "      <td>8</td>\n",
       "      <td>1</td>\n",
       "      <td>Life Sciences</td>\n",
       "      <td>1</td>\n",
       "      <td>2</td>\n",
       "      <td>...</td>\n",
       "      <td>4</td>\n",
       "      <td>80</td>\n",
       "      <td>1</td>\n",
       "      <td>10</td>\n",
       "      <td>3</td>\n",
       "      <td>3</td>\n",
       "      <td>10</td>\n",
       "      <td>7</td>\n",
       "      <td>1</td>\n",
       "      <td>7</td>\n",
       "    </tr>\n",
       "    <tr>\n",
       "      <th>2</th>\n",
       "      <td>37</td>\n",
       "      <td>Yes</td>\n",
       "      <td>Travel_Rarely</td>\n",
       "      <td>1373</td>\n",
       "      <td>Research &amp; Development</td>\n",
       "      <td>2</td>\n",
       "      <td>2</td>\n",
       "      <td>Other</td>\n",
       "      <td>1</td>\n",
       "      <td>4</td>\n",
       "      <td>...</td>\n",
       "      <td>2</td>\n",
       "      <td>80</td>\n",
       "      <td>0</td>\n",
       "      <td>7</td>\n",
       "      <td>3</td>\n",
       "      <td>3</td>\n",
       "      <td>0</td>\n",
       "      <td>0</td>\n",
       "      <td>0</td>\n",
       "      <td>0</td>\n",
       "    </tr>\n",
       "    <tr>\n",
       "      <th>3</th>\n",
       "      <td>33</td>\n",
       "      <td>No</td>\n",
       "      <td>Travel_Frequently</td>\n",
       "      <td>1392</td>\n",
       "      <td>Research &amp; Development</td>\n",
       "      <td>3</td>\n",
       "      <td>4</td>\n",
       "      <td>Life Sciences</td>\n",
       "      <td>1</td>\n",
       "      <td>5</td>\n",
       "      <td>...</td>\n",
       "      <td>3</td>\n",
       "      <td>80</td>\n",
       "      <td>0</td>\n",
       "      <td>8</td>\n",
       "      <td>3</td>\n",
       "      <td>3</td>\n",
       "      <td>8</td>\n",
       "      <td>7</td>\n",
       "      <td>3</td>\n",
       "      <td>0</td>\n",
       "    </tr>\n",
       "    <tr>\n",
       "      <th>4</th>\n",
       "      <td>27</td>\n",
       "      <td>No</td>\n",
       "      <td>Travel_Rarely</td>\n",
       "      <td>591</td>\n",
       "      <td>Research &amp; Development</td>\n",
       "      <td>2</td>\n",
       "      <td>1</td>\n",
       "      <td>Medical</td>\n",
       "      <td>1</td>\n",
       "      <td>7</td>\n",
       "      <td>...</td>\n",
       "      <td>4</td>\n",
       "      <td>80</td>\n",
       "      <td>1</td>\n",
       "      <td>6</td>\n",
       "      <td>3</td>\n",
       "      <td>3</td>\n",
       "      <td>2</td>\n",
       "      <td>2</td>\n",
       "      <td>2</td>\n",
       "      <td>2</td>\n",
       "    </tr>\n",
       "  </tbody>\n",
       "</table>\n",
       "<p>5 rows × 35 columns</p>\n",
       "</div>"
      ],
      "text/plain": [
       "   Age Attrition     BusinessTravel  DailyRate              Department  \\\n",
       "0   41       Yes      Travel_Rarely       1102                   Sales   \n",
       "1   49        No  Travel_Frequently        279  Research & Development   \n",
       "2   37       Yes      Travel_Rarely       1373  Research & Development   \n",
       "3   33        No  Travel_Frequently       1392  Research & Development   \n",
       "4   27        No      Travel_Rarely        591  Research & Development   \n",
       "\n",
       "   DistanceFromHome  Education EducationField  EmployeeCount  EmployeeNumber  \\\n",
       "0                 1          2  Life Sciences              1               1   \n",
       "1                 8          1  Life Sciences              1               2   \n",
       "2                 2          2          Other              1               4   \n",
       "3                 3          4  Life Sciences              1               5   \n",
       "4                 2          1        Medical              1               7   \n",
       "\n",
       "   ...  RelationshipSatisfaction StandardHours  StockOptionLevel  \\\n",
       "0  ...                         1            80                 0   \n",
       "1  ...                         4            80                 1   \n",
       "2  ...                         2            80                 0   \n",
       "3  ...                         3            80                 0   \n",
       "4  ...                         4            80                 1   \n",
       "\n",
       "   TotalWorkingYears  TrainingTimesLastYear WorkLifeBalance  YearsAtCompany  \\\n",
       "0                  8                      0               1               6   \n",
       "1                 10                      3               3              10   \n",
       "2                  7                      3               3               0   \n",
       "3                  8                      3               3               8   \n",
       "4                  6                      3               3               2   \n",
       "\n",
       "  YearsInCurrentRole  YearsSinceLastPromotion  YearsWithCurrManager  \n",
       "0                  4                        0                     5  \n",
       "1                  7                        1                     7  \n",
       "2                  0                        0                     0  \n",
       "3                  7                        3                     0  \n",
       "4                  2                        2                     2  \n",
       "\n",
       "[5 rows x 35 columns]"
      ]
     },
     "metadata": {},
     "output_type": "display_data"
    }
   ],
   "source": [
    "display(train.head())\n",
    "display(train_o.head())"
   ]
  },
  {
   "cell_type": "code",
   "execution_count": 6,
   "id": "883ff275",
   "metadata": {
    "execution": {
     "iopub.execute_input": "2023-01-17T15:09:50.278716Z",
     "iopub.status.busy": "2023-01-17T15:09:50.277567Z",
     "iopub.status.idle": "2023-01-17T15:09:50.293082Z",
     "shell.execute_reply": "2023-01-17T15:09:50.291917Z"
    },
    "papermill": {
     "duration": 0.027125,
     "end_time": "2023-01-17T15:09:50.295582",
     "exception": false,
     "start_time": "2023-01-17T15:09:50.268457",
     "status": "completed"
    },
    "tags": []
   },
   "outputs": [
    {
     "data": {
      "text/plain": [
       "0    1477\n",
       "1     200\n",
       "Name: Attrition, dtype: int64"
      ]
     },
     "metadata": {},
     "output_type": "display_data"
    },
    {
     "data": {
      "text/plain": [
       "No     1233\n",
       "Yes     237\n",
       "Name: Attrition, dtype: int64"
      ]
     },
     "metadata": {},
     "output_type": "display_data"
    }
   ],
   "source": [
    "display(train['Attrition'].value_counts())\n",
    "display(train_o['Attrition'].value_counts())"
   ]
  },
  {
   "cell_type": "code",
   "execution_count": 7,
   "id": "d3b5edaf",
   "metadata": {
    "execution": {
     "iopub.execute_input": "2023-01-17T15:09:50.316118Z",
     "iopub.status.busy": "2023-01-17T15:09:50.315649Z",
     "iopub.status.idle": "2023-01-17T15:09:50.324450Z",
     "shell.execute_reply": "2023-01-17T15:09:50.323140Z"
    },
    "papermill": {
     "duration": 0.021045,
     "end_time": "2023-01-17T15:09:50.326741",
     "exception": false,
     "start_time": "2023-01-17T15:09:50.305696",
     "status": "completed"
    },
    "tags": []
   },
   "outputs": [],
   "source": [
    "train_o['Attrition'] = train_o['Attrition'].map(lambda x: 1 if x == \"Yes\" else 0)\n",
    "train_o['id'] = train_o['EmployeeNumber']"
   ]
  },
  {
   "cell_type": "code",
   "execution_count": 8,
   "id": "3c971425",
   "metadata": {
    "execution": {
     "iopub.execute_input": "2023-01-17T15:09:50.344831Z",
     "iopub.status.busy": "2023-01-17T15:09:50.344128Z",
     "iopub.status.idle": "2023-01-17T15:09:50.357077Z",
     "shell.execute_reply": "2023-01-17T15:09:50.356027Z"
    },
    "papermill": {
     "duration": 0.025954,
     "end_time": "2023-01-17T15:09:50.360783",
     "exception": false,
     "start_time": "2023-01-17T15:09:50.334829",
     "status": "completed"
    },
    "tags": []
   },
   "outputs": [],
   "source": [
    "train_all = pd.concat([train, train_o.drop('EmployeeNumber', axis = 1)])"
   ]
  },
  {
   "cell_type": "code",
   "execution_count": 9,
   "id": "c946b787",
   "metadata": {
    "execution": {
     "iopub.execute_input": "2023-01-17T15:09:50.380727Z",
     "iopub.status.busy": "2023-01-17T15:09:50.380026Z",
     "iopub.status.idle": "2023-01-17T15:09:50.390297Z",
     "shell.execute_reply": "2023-01-17T15:09:50.388935Z"
    },
    "papermill": {
     "duration": 0.023296,
     "end_time": "2023-01-17T15:09:50.392697",
     "exception": false,
     "start_time": "2023-01-17T15:09:50.369401",
     "status": "completed"
    },
    "tags": []
   },
   "outputs": [
    {
     "data": {
      "text/plain": [
       "(3147, 35)"
      ]
     },
     "metadata": {},
     "output_type": "display_data"
    },
    {
     "data": {
      "text/plain": [
       "0    2710\n",
       "1     437\n",
       "Name: Attrition, dtype: int64"
      ]
     },
     "metadata": {},
     "output_type": "display_data"
    }
   ],
   "source": [
    "display(train_all.shape)\n",
    "display(train_all['Attrition'].value_counts())"
   ]
  },
  {
   "cell_type": "code",
   "execution_count": 10,
   "id": "ddb6b0bf",
   "metadata": {
    "execution": {
     "iopub.execute_input": "2023-01-17T15:09:50.411094Z",
     "iopub.status.busy": "2023-01-17T15:09:50.410617Z",
     "iopub.status.idle": "2023-01-17T15:09:50.429784Z",
     "shell.execute_reply": "2023-01-17T15:09:50.428493Z"
    },
    "papermill": {
     "duration": 0.031891,
     "end_time": "2023-01-17T15:09:50.432729",
     "exception": false,
     "start_time": "2023-01-17T15:09:50.400838",
     "status": "completed"
    },
    "tags": []
   },
   "outputs": [
    {
     "name": "stdout",
     "output_type": "stream",
     "text": [
      "(3147, 35) (1119, 34) (4266, 34)\n"
     ]
    }
   ],
   "source": [
    "target = train_all['Attrition']\n",
    "\n",
    "data = pd.concat([train_all.drop('Attrition', axis = 1), test]).reset_index(drop = True)\n",
    "\n",
    "print(train_all.shape, test.shape, data.shape)"
   ]
  },
  {
   "cell_type": "code",
   "execution_count": 11,
   "id": "3b46ab65",
   "metadata": {
    "execution": {
     "iopub.execute_input": "2023-01-17T15:09:50.452244Z",
     "iopub.status.busy": "2023-01-17T15:09:50.451400Z",
     "iopub.status.idle": "2023-01-17T15:09:50.506431Z",
     "shell.execute_reply": "2023-01-17T15:09:50.505119Z"
    },
    "papermill": {
     "duration": 0.067804,
     "end_time": "2023-01-17T15:09:50.509199",
     "exception": false,
     "start_time": "2023-01-17T15:09:50.441395",
     "status": "completed"
    },
    "tags": []
   },
   "outputs": [],
   "source": [
    "text_features = []\n",
    "\n",
    "for column in data.columns:\n",
    "    if data[column].dtype == 'object':\n",
    "        text_features.append(column)\n",
    "\n",
    "for text_feature in text_features:\n",
    "    data = data.join(pd.get_dummies(data[text_feature], prefix=text_feature))\n",
    "    data = data.drop(text_feature, axis = 1)"
   ]
  },
  {
   "cell_type": "code",
   "execution_count": 12,
   "id": "a52d60f0",
   "metadata": {
    "execution": {
     "iopub.execute_input": "2023-01-17T15:09:50.527885Z",
     "iopub.status.busy": "2023-01-17T15:09:50.527449Z",
     "iopub.status.idle": "2023-01-17T15:09:50.548423Z",
     "shell.execute_reply": "2023-01-17T15:09:50.546589Z"
    },
    "papermill": {
     "duration": 0.033635,
     "end_time": "2023-01-17T15:09:50.551141",
     "exception": false,
     "start_time": "2023-01-17T15:09:50.517506",
     "status": "completed"
    },
    "tags": []
   },
   "outputs": [
    {
     "data": {
      "text/html": [
       "<div>\n",
       "<style scoped>\n",
       "    .dataframe tbody tr th:only-of-type {\n",
       "        vertical-align: middle;\n",
       "    }\n",
       "\n",
       "    .dataframe tbody tr th {\n",
       "        vertical-align: top;\n",
       "    }\n",
       "\n",
       "    .dataframe thead th {\n",
       "        text-align: right;\n",
       "    }\n",
       "</style>\n",
       "<table border=\"1\" class=\"dataframe\">\n",
       "  <thead>\n",
       "    <tr style=\"text-align: right;\">\n",
       "      <th></th>\n",
       "      <th>id</th>\n",
       "      <th>Age</th>\n",
       "      <th>DailyRate</th>\n",
       "      <th>DistanceFromHome</th>\n",
       "      <th>Education</th>\n",
       "      <th>EmployeeCount</th>\n",
       "      <th>EnvironmentSatisfaction</th>\n",
       "      <th>HourlyRate</th>\n",
       "      <th>JobInvolvement</th>\n",
       "      <th>JobLevel</th>\n",
       "      <th>...</th>\n",
       "      <th>JobRole_Research Director</th>\n",
       "      <th>JobRole_Research Scientist</th>\n",
       "      <th>JobRole_Sales Executive</th>\n",
       "      <th>JobRole_Sales Representative</th>\n",
       "      <th>MaritalStatus_Divorced</th>\n",
       "      <th>MaritalStatus_Married</th>\n",
       "      <th>MaritalStatus_Single</th>\n",
       "      <th>Over18_Y</th>\n",
       "      <th>OverTime_No</th>\n",
       "      <th>OverTime_Yes</th>\n",
       "    </tr>\n",
       "  </thead>\n",
       "  <tbody>\n",
       "    <tr>\n",
       "      <th>0</th>\n",
       "      <td>0</td>\n",
       "      <td>36</td>\n",
       "      <td>599</td>\n",
       "      <td>24</td>\n",
       "      <td>3</td>\n",
       "      <td>1</td>\n",
       "      <td>4</td>\n",
       "      <td>42</td>\n",
       "      <td>3</td>\n",
       "      <td>1</td>\n",
       "      <td>...</td>\n",
       "      <td>0</td>\n",
       "      <td>0</td>\n",
       "      <td>0</td>\n",
       "      <td>0</td>\n",
       "      <td>0</td>\n",
       "      <td>1</td>\n",
       "      <td>0</td>\n",
       "      <td>1</td>\n",
       "      <td>0</td>\n",
       "      <td>1</td>\n",
       "    </tr>\n",
       "    <tr>\n",
       "      <th>1</th>\n",
       "      <td>1</td>\n",
       "      <td>35</td>\n",
       "      <td>921</td>\n",
       "      <td>8</td>\n",
       "      <td>3</td>\n",
       "      <td>1</td>\n",
       "      <td>1</td>\n",
       "      <td>46</td>\n",
       "      <td>3</td>\n",
       "      <td>1</td>\n",
       "      <td>...</td>\n",
       "      <td>0</td>\n",
       "      <td>0</td>\n",
       "      <td>0</td>\n",
       "      <td>1</td>\n",
       "      <td>0</td>\n",
       "      <td>1</td>\n",
       "      <td>0</td>\n",
       "      <td>1</td>\n",
       "      <td>1</td>\n",
       "      <td>0</td>\n",
       "    </tr>\n",
       "    <tr>\n",
       "      <th>2</th>\n",
       "      <td>2</td>\n",
       "      <td>32</td>\n",
       "      <td>718</td>\n",
       "      <td>26</td>\n",
       "      <td>3</td>\n",
       "      <td>1</td>\n",
       "      <td>3</td>\n",
       "      <td>80</td>\n",
       "      <td>3</td>\n",
       "      <td>2</td>\n",
       "      <td>...</td>\n",
       "      <td>0</td>\n",
       "      <td>0</td>\n",
       "      <td>1</td>\n",
       "      <td>0</td>\n",
       "      <td>1</td>\n",
       "      <td>0</td>\n",
       "      <td>0</td>\n",
       "      <td>1</td>\n",
       "      <td>1</td>\n",
       "      <td>0</td>\n",
       "    </tr>\n",
       "    <tr>\n",
       "      <th>3</th>\n",
       "      <td>3</td>\n",
       "      <td>38</td>\n",
       "      <td>1488</td>\n",
       "      <td>2</td>\n",
       "      <td>3</td>\n",
       "      <td>1</td>\n",
       "      <td>3</td>\n",
       "      <td>40</td>\n",
       "      <td>3</td>\n",
       "      <td>2</td>\n",
       "      <td>...</td>\n",
       "      <td>0</td>\n",
       "      <td>0</td>\n",
       "      <td>0</td>\n",
       "      <td>0</td>\n",
       "      <td>0</td>\n",
       "      <td>1</td>\n",
       "      <td>0</td>\n",
       "      <td>1</td>\n",
       "      <td>1</td>\n",
       "      <td>0</td>\n",
       "    </tr>\n",
       "    <tr>\n",
       "      <th>4</th>\n",
       "      <td>4</td>\n",
       "      <td>50</td>\n",
       "      <td>1017</td>\n",
       "      <td>5</td>\n",
       "      <td>4</td>\n",
       "      <td>1</td>\n",
       "      <td>2</td>\n",
       "      <td>37</td>\n",
       "      <td>3</td>\n",
       "      <td>5</td>\n",
       "      <td>...</td>\n",
       "      <td>0</td>\n",
       "      <td>0</td>\n",
       "      <td>0</td>\n",
       "      <td>0</td>\n",
       "      <td>0</td>\n",
       "      <td>0</td>\n",
       "      <td>1</td>\n",
       "      <td>1</td>\n",
       "      <td>0</td>\n",
       "      <td>1</td>\n",
       "    </tr>\n",
       "  </tbody>\n",
       "</table>\n",
       "<p>5 rows × 55 columns</p>\n",
       "</div>"
      ],
      "text/plain": [
       "   id  Age  DailyRate  DistanceFromHome  Education  EmployeeCount  \\\n",
       "0   0   36        599                24          3              1   \n",
       "1   1   35        921                 8          3              1   \n",
       "2   2   32        718                26          3              1   \n",
       "3   3   38       1488                 2          3              1   \n",
       "4   4   50       1017                 5          4              1   \n",
       "\n",
       "   EnvironmentSatisfaction  HourlyRate  JobInvolvement  JobLevel  ...  \\\n",
       "0                        4          42               3         1  ...   \n",
       "1                        1          46               3         1  ...   \n",
       "2                        3          80               3         2  ...   \n",
       "3                        3          40               3         2  ...   \n",
       "4                        2          37               3         5  ...   \n",
       "\n",
       "   JobRole_Research Director  JobRole_Research Scientist  \\\n",
       "0                          0                           0   \n",
       "1                          0                           0   \n",
       "2                          0                           0   \n",
       "3                          0                           0   \n",
       "4                          0                           0   \n",
       "\n",
       "   JobRole_Sales Executive  JobRole_Sales Representative  \\\n",
       "0                        0                             0   \n",
       "1                        0                             1   \n",
       "2                        1                             0   \n",
       "3                        0                             0   \n",
       "4                        0                             0   \n",
       "\n",
       "   MaritalStatus_Divorced  MaritalStatus_Married  MaritalStatus_Single  \\\n",
       "0                       0                      1                     0   \n",
       "1                       0                      1                     0   \n",
       "2                       1                      0                     0   \n",
       "3                       0                      1                     0   \n",
       "4                       0                      0                     1   \n",
       "\n",
       "   Over18_Y  OverTime_No  OverTime_Yes  \n",
       "0         1            0             1  \n",
       "1         1            1             0  \n",
       "2         1            1             0  \n",
       "3         1            1             0  \n",
       "4         1            0             1  \n",
       "\n",
       "[5 rows x 55 columns]"
      ]
     },
     "execution_count": 12,
     "metadata": {},
     "output_type": "execute_result"
    }
   ],
   "source": [
    "data.head()"
   ]
  },
  {
   "cell_type": "code",
   "execution_count": 13,
   "id": "6ba68717",
   "metadata": {
    "execution": {
     "iopub.execute_input": "2023-01-17T15:09:50.571871Z",
     "iopub.status.busy": "2023-01-17T15:09:50.571446Z",
     "iopub.status.idle": "2023-01-17T15:09:50.580445Z",
     "shell.execute_reply": "2023-01-17T15:09:50.579063Z"
    },
    "papermill": {
     "duration": 0.022169,
     "end_time": "2023-01-17T15:09:50.582827",
     "exception": false,
     "start_time": "2023-01-17T15:09:50.560658",
     "status": "completed"
    },
    "tags": []
   },
   "outputs": [
    {
     "data": {
      "text/plain": [
       "((3147, 55), (3147,), (1119, 55))"
      ]
     },
     "execution_count": 13,
     "metadata": {},
     "output_type": "execute_result"
    }
   ],
   "source": [
    "df_train = data.iloc[:len(target), :]\n",
    "\n",
    "df_test = data.iloc[len(target):, :]\n",
    "\n",
    "df_train.shape, target.shape, df_test.shape"
   ]
  },
  {
   "cell_type": "code",
   "execution_count": 14,
   "id": "a2d855d8",
   "metadata": {
    "execution": {
     "iopub.execute_input": "2023-01-17T15:09:50.603104Z",
     "iopub.status.busy": "2023-01-17T15:09:50.602543Z",
     "iopub.status.idle": "2023-01-17T15:09:50.614975Z",
     "shell.execute_reply": "2023-01-17T15:09:50.613883Z"
    },
    "papermill": {
     "duration": 0.025956,
     "end_time": "2023-01-17T15:09:50.617987",
     "exception": false,
     "start_time": "2023-01-17T15:09:50.592031",
     "status": "completed"
    },
    "tags": []
   },
   "outputs": [],
   "source": [
    "X_train, X_test, y_train, y_test = model_selection.train_test_split(df_train.drop('id', axis = 1), target, random_state = 42)"
   ]
  },
  {
   "cell_type": "markdown",
   "id": "de6a5a58",
   "metadata": {
    "papermill": {
     "duration": 0.00921,
     "end_time": "2023-01-17T15:09:50.638802",
     "exception": false,
     "start_time": "2023-01-17T15:09:50.629592",
     "status": "completed"
    },
    "tags": []
   },
   "source": [
    "CATBOOST"
   ]
  },
  {
   "cell_type": "code",
   "execution_count": 15,
   "id": "049b4569",
   "metadata": {
    "execution": {
     "iopub.execute_input": "2023-01-17T15:09:50.658178Z",
     "iopub.status.busy": "2023-01-17T15:09:50.657761Z",
     "iopub.status.idle": "2023-01-17T15:09:52.341926Z",
     "shell.execute_reply": "2023-01-17T15:09:52.339541Z"
    },
    "papermill": {
     "duration": 1.697618,
     "end_time": "2023-01-17T15:09:52.345317",
     "exception": false,
     "start_time": "2023-01-17T15:09:50.647699",
     "status": "completed"
    },
    "tags": []
   },
   "outputs": [
    {
     "name": "stdout",
     "output_type": "stream",
     "text": [
      "0.8764324324324325\n"
     ]
    }
   ],
   "source": [
    "model_cb = cb.CatBoostClassifier(depth = 3,\n",
    "                                 learning_rate = 0.01,\n",
    "                                 rsm = 0.5,\n",
    "                                 random_seed = 42,\n",
    "                                 verbose = False).fit(X_train, y_train)\n",
    "print(metrics.roc_auc_score(model_cb.predict(X_test), y_test))\n",
    "preds_cb = model_cb.predict(df_test.drop('id', axis = 1))\n",
    "proba_cb = model_cb.predict_proba(df_test.drop('id', axis = 1))"
   ]
  },
  {
   "cell_type": "markdown",
   "id": "02ff6762",
   "metadata": {
    "papermill": {
     "duration": 0.008465,
     "end_time": "2023-01-17T15:09:52.363588",
     "exception": false,
     "start_time": "2023-01-17T15:09:52.355123",
     "status": "completed"
    },
    "tags": []
   },
   "source": [
    "XGBOOST"
   ]
  },
  {
   "cell_type": "code",
   "execution_count": 16,
   "id": "e30c6d08",
   "metadata": {
    "execution": {
     "iopub.execute_input": "2023-01-17T15:09:52.384186Z",
     "iopub.status.busy": "2023-01-17T15:09:52.382276Z",
     "iopub.status.idle": "2023-01-17T15:09:53.148167Z",
     "shell.execute_reply": "2023-01-17T15:09:53.146763Z"
    },
    "papermill": {
     "duration": 0.778364,
     "end_time": "2023-01-17T15:09:53.150617",
     "exception": false,
     "start_time": "2023-01-17T15:09:52.372253",
     "status": "completed"
    },
    "tags": []
   },
   "outputs": [
    {
     "name": "stdout",
     "output_type": "stream",
     "text": [
      "0.7526585094549498\n"
     ]
    }
   ],
   "source": [
    "model_xgb = XGBClassifier().fit(X_train, y_train)\n",
    "print(metrics.roc_auc_score(model_xgb.predict(X_test), y_test))\n",
    "preds_xgb = model_xgb.predict(df_test.drop('id', axis = 1))\n",
    "proba_xgb = model_cb.predict_proba(df_test.drop('id', axis = 1))"
   ]
  },
  {
   "cell_type": "markdown",
   "id": "64bdfd17",
   "metadata": {
    "papermill": {
     "duration": 0.008242,
     "end_time": "2023-01-17T15:09:53.167928",
     "exception": false,
     "start_time": "2023-01-17T15:09:53.159686",
     "status": "completed"
    },
    "tags": []
   },
   "source": [
    "LIGHTGBM"
   ]
  },
  {
   "cell_type": "code",
   "execution_count": 17,
   "id": "17b9b45b",
   "metadata": {
    "execution": {
     "iopub.execute_input": "2023-01-17T15:09:53.187434Z",
     "iopub.status.busy": "2023-01-17T15:09:53.186522Z",
     "iopub.status.idle": "2023-01-17T15:09:53.428181Z",
     "shell.execute_reply": "2023-01-17T15:09:53.426944Z"
    },
    "papermill": {
     "duration": 0.254545,
     "end_time": "2023-01-17T15:09:53.431085",
     "exception": false,
     "start_time": "2023-01-17T15:09:53.176540",
     "status": "completed"
    },
    "tags": []
   },
   "outputs": [
    {
     "name": "stdout",
     "output_type": "stream",
     "text": [
      "0.7554751430868927\n"
     ]
    }
   ],
   "source": [
    "model_lgbm = lightgbm.LGBMClassifier().fit(X_train, y_train)\n",
    "print(metrics.roc_auc_score(model_lgbm.predict(X_test), y_test))\n",
    "preds_lgbm = model_lgbm.predict(df_test.drop('id', axis = 1))\n",
    "proba_lgbm = model_lgbm.predict_proba(df_test.drop('id', axis = 1))"
   ]
  },
  {
   "cell_type": "code",
   "execution_count": 18,
   "id": "6585891c",
   "metadata": {
    "execution": {
     "iopub.execute_input": "2023-01-17T15:09:53.455078Z",
     "iopub.status.busy": "2023-01-17T15:09:53.454289Z",
     "iopub.status.idle": "2023-01-17T15:09:53.461278Z",
     "shell.execute_reply": "2023-01-17T15:09:53.460380Z"
    },
    "papermill": {
     "duration": 0.021234,
     "end_time": "2023-01-17T15:09:53.463608",
     "exception": false,
     "start_time": "2023-01-17T15:09:53.442374",
     "status": "completed"
    },
    "tags": []
   },
   "outputs": [
    {
     "data": {
      "text/plain": [
       "array([[0.73188835, 0.26811165],\n",
       "       [0.87269235, 0.12730765],\n",
       "       [0.92160381, 0.07839619],\n",
       "       ...,\n",
       "       [0.96059179, 0.03940821],\n",
       "       [0.96705772, 0.03294228],\n",
       "       [0.98617029, 0.01382971]])"
      ]
     },
     "execution_count": 18,
     "metadata": {},
     "output_type": "execute_result"
    }
   ],
   "source": [
    "proba_global = (proba_cb+proba_xgb+proba_lgbm)/3\n",
    "proba_global"
   ]
  },
  {
   "cell_type": "code",
   "execution_count": 19,
   "id": "1c68baf4",
   "metadata": {
    "execution": {
     "iopub.execute_input": "2023-01-17T15:09:53.484323Z",
     "iopub.status.busy": "2023-01-17T15:09:53.483562Z",
     "iopub.status.idle": "2023-01-17T15:09:53.491436Z",
     "shell.execute_reply": "2023-01-17T15:09:53.490276Z"
    },
    "papermill": {
     "duration": 0.021318,
     "end_time": "2023-01-17T15:09:53.494164",
     "exception": false,
     "start_time": "2023-01-17T15:09:53.472846",
     "status": "completed"
    },
    "tags": []
   },
   "outputs": [
    {
     "data": {
      "text/plain": [
       "array([0.73188835, 0.26811165])"
      ]
     },
     "execution_count": 19,
     "metadata": {},
     "output_type": "execute_result"
    }
   ],
   "source": [
    "proba_global[0]"
   ]
  },
  {
   "cell_type": "code",
   "execution_count": 20,
   "id": "8038e04d",
   "metadata": {
    "execution": {
     "iopub.execute_input": "2023-01-17T15:09:53.514028Z",
     "iopub.status.busy": "2023-01-17T15:09:53.513617Z",
     "iopub.status.idle": "2023-01-17T15:09:53.523569Z",
     "shell.execute_reply": "2023-01-17T15:09:53.522430Z"
    },
    "papermill": {
     "duration": 0.022923,
     "end_time": "2023-01-17T15:09:53.526125",
     "exception": false,
     "start_time": "2023-01-17T15:09:53.503202",
     "status": "completed"
    },
    "tags": []
   },
   "outputs": [
    {
     "data": {
      "text/plain": [
       "array([[0.73188835, 0.26811165],\n",
       "       [0.87269235, 0.12730765],\n",
       "       [0.92160381, 0.07839619],\n",
       "       ...,\n",
       "       [0.96059179, 0.03940821],\n",
       "       [0.96705772, 0.03294228],\n",
       "       [0.98617029, 0.01382971]])"
      ]
     },
     "execution_count": 20,
     "metadata": {},
     "output_type": "execute_result"
    }
   ],
   "source": [
    "np.stack(proba_global, axis=0)"
   ]
  },
  {
   "cell_type": "code",
   "execution_count": 21,
   "id": "049ba62c",
   "metadata": {
    "execution": {
     "iopub.execute_input": "2023-01-17T15:09:53.546934Z",
     "iopub.status.busy": "2023-01-17T15:09:53.546487Z",
     "iopub.status.idle": "2023-01-17T15:09:53.553840Z",
     "shell.execute_reply": "2023-01-17T15:09:53.552640Z"
    },
    "papermill": {
     "duration": 0.020733,
     "end_time": "2023-01-17T15:09:53.556466",
     "exception": false,
     "start_time": "2023-01-17T15:09:53.535733",
     "status": "completed"
    },
    "tags": []
   },
   "outputs": [],
   "source": [
    "ss_test = ss.copy()\n",
    "\n",
    "ss_test[['Stay','Attrition']] = proba_global"
   ]
  },
  {
   "cell_type": "code",
   "execution_count": 22,
   "id": "e6625669",
   "metadata": {
    "execution": {
     "iopub.execute_input": "2023-01-17T15:09:53.577115Z",
     "iopub.status.busy": "2023-01-17T15:09:53.576681Z",
     "iopub.status.idle": "2023-01-17T15:09:53.594077Z",
     "shell.execute_reply": "2023-01-17T15:09:53.592286Z"
    },
    "papermill": {
     "duration": 0.034427,
     "end_time": "2023-01-17T15:09:53.600204",
     "exception": false,
     "start_time": "2023-01-17T15:09:53.565777",
     "status": "completed"
    },
    "tags": []
   },
   "outputs": [
    {
     "data": {
      "text/html": [
       "<div>\n",
       "<style scoped>\n",
       "    .dataframe tbody tr th:only-of-type {\n",
       "        vertical-align: middle;\n",
       "    }\n",
       "\n",
       "    .dataframe tbody tr th {\n",
       "        vertical-align: top;\n",
       "    }\n",
       "\n",
       "    .dataframe thead th {\n",
       "        text-align: right;\n",
       "    }\n",
       "</style>\n",
       "<table border=\"1\" class=\"dataframe\">\n",
       "  <thead>\n",
       "    <tr style=\"text-align: right;\">\n",
       "      <th></th>\n",
       "      <th>id</th>\n",
       "      <th>Attrition</th>\n",
       "      <th>Stay</th>\n",
       "    </tr>\n",
       "  </thead>\n",
       "  <tbody>\n",
       "    <tr>\n",
       "      <th>0</th>\n",
       "      <td>1677</td>\n",
       "      <td>0.268112</td>\n",
       "      <td>0.731888</td>\n",
       "    </tr>\n",
       "    <tr>\n",
       "      <th>1</th>\n",
       "      <td>1678</td>\n",
       "      <td>0.127308</td>\n",
       "      <td>0.872692</td>\n",
       "    </tr>\n",
       "    <tr>\n",
       "      <th>2</th>\n",
       "      <td>1679</td>\n",
       "      <td>0.078396</td>\n",
       "      <td>0.921604</td>\n",
       "    </tr>\n",
       "    <tr>\n",
       "      <th>3</th>\n",
       "      <td>1680</td>\n",
       "      <td>0.061298</td>\n",
       "      <td>0.938702</td>\n",
       "    </tr>\n",
       "    <tr>\n",
       "      <th>4</th>\n",
       "      <td>1681</td>\n",
       "      <td>0.523901</td>\n",
       "      <td>0.476099</td>\n",
       "    </tr>\n",
       "    <tr>\n",
       "      <th>...</th>\n",
       "      <td>...</td>\n",
       "      <td>...</td>\n",
       "      <td>...</td>\n",
       "    </tr>\n",
       "    <tr>\n",
       "      <th>1114</th>\n",
       "      <td>2791</td>\n",
       "      <td>0.075159</td>\n",
       "      <td>0.924841</td>\n",
       "    </tr>\n",
       "    <tr>\n",
       "      <th>1115</th>\n",
       "      <td>2792</td>\n",
       "      <td>0.012388</td>\n",
       "      <td>0.987612</td>\n",
       "    </tr>\n",
       "    <tr>\n",
       "      <th>1116</th>\n",
       "      <td>2793</td>\n",
       "      <td>0.039408</td>\n",
       "      <td>0.960592</td>\n",
       "    </tr>\n",
       "    <tr>\n",
       "      <th>1117</th>\n",
       "      <td>2794</td>\n",
       "      <td>0.032942</td>\n",
       "      <td>0.967058</td>\n",
       "    </tr>\n",
       "    <tr>\n",
       "      <th>1118</th>\n",
       "      <td>2795</td>\n",
       "      <td>0.013830</td>\n",
       "      <td>0.986170</td>\n",
       "    </tr>\n",
       "  </tbody>\n",
       "</table>\n",
       "<p>1119 rows × 3 columns</p>\n",
       "</div>"
      ],
      "text/plain": [
       "        id  Attrition      Stay\n",
       "0     1677   0.268112  0.731888\n",
       "1     1678   0.127308  0.872692\n",
       "2     1679   0.078396  0.921604\n",
       "3     1680   0.061298  0.938702\n",
       "4     1681   0.523901  0.476099\n",
       "...    ...        ...       ...\n",
       "1114  2791   0.075159  0.924841\n",
       "1115  2792   0.012388  0.987612\n",
       "1116  2793   0.039408  0.960592\n",
       "1117  2794   0.032942  0.967058\n",
       "1118  2795   0.013830  0.986170\n",
       "\n",
       "[1119 rows x 3 columns]"
      ]
     },
     "execution_count": 22,
     "metadata": {},
     "output_type": "execute_result"
    }
   ],
   "source": [
    "ss_test"
   ]
  },
  {
   "cell_type": "code",
   "execution_count": 23,
   "id": "be954635",
   "metadata": {
    "execution": {
     "iopub.execute_input": "2023-01-17T15:09:53.629683Z",
     "iopub.status.busy": "2023-01-17T15:09:53.629237Z",
     "iopub.status.idle": "2023-01-17T15:09:53.644260Z",
     "shell.execute_reply": "2023-01-17T15:09:53.642649Z"
    },
    "papermill": {
     "duration": 0.035144,
     "end_time": "2023-01-17T15:09:53.647654",
     "exception": false,
     "start_time": "2023-01-17T15:09:53.612510",
     "status": "completed"
    },
    "tags": []
   },
   "outputs": [],
   "source": [
    "ss_test[['id','Attrition']].to_csv('submission.csv', index = False)"
   ]
  },
  {
   "cell_type": "code",
   "execution_count": null,
   "id": "13c8d6d7",
   "metadata": {
    "papermill": {
     "duration": 0.013914,
     "end_time": "2023-01-17T15:09:53.677275",
     "exception": false,
     "start_time": "2023-01-17T15:09:53.663361",
     "status": "completed"
    },
    "tags": []
   },
   "outputs": [],
   "source": []
  }
 ],
 "metadata": {
  "kernelspec": {
   "display_name": "Python 3",
   "language": "python",
   "name": "python3"
  },
  "language_info": {
   "codemirror_mode": {
    "name": "ipython",
    "version": 3
   },
   "file_extension": ".py",
   "mimetype": "text/x-python",
   "name": "python",
   "nbconvert_exporter": "python",
   "pygments_lexer": "ipython3",
   "version": "3.7.12"
  },
  "papermill": {
   "default_parameters": {},
   "duration": 16.858055,
   "end_time": "2023-01-17T15:09:54.614260",
   "environment_variables": {},
   "exception": null,
   "input_path": "__notebook__.ipynb",
   "output_path": "__notebook__.ipynb",
   "parameters": {},
   "start_time": "2023-01-17T15:09:37.756205",
   "version": "2.3.4"
  }
 },
 "nbformat": 4,
 "nbformat_minor": 5
}
